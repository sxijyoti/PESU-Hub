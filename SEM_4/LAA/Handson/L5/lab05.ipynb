{
 "cells": [
  {
   "cell_type": "code",
   "execution_count": null,
   "metadata": {},
   "outputs": [],
   "source": [
    "import numpy as np\n",
    "from scipy.io import loadmat\n",
    "\n",
    "file_path = \"Scores.mat\"\n",
    "data = loadmat(file_path)\n",
    "\n",
    "# Extract A \n",
    "A = np.array(data['Scores'], dtype=float)  \n",
    "\n",
    "# Define b \n",
    "b = np.sum(A, axis=1)  \n",
    "\n",
    "# Big 12 College Football Teams\n",
    "teams = [\n",
    "    \"Texas\", \"Kansas State\", \"Oklahoma\", \"Baylor\",\n",
    "    \"Iowa State\", \"Texas Tech\", \"TCU\", \"West Virginia\",\n",
    "    \"Oklahoma State\", \"Kansas\"\n",
    "]"
   ]
  },
  {
   "cell_type": "code",
   "execution_count": 4,
   "metadata": {},
   "outputs": [],
   "source": [
    "# Gaussian Elimination Function\n",
    "def gaussian_elimination(A, b):\n",
    "    n = len(b)\n",
    "\n",
    "    for i in range(n):\n",
    "        max_row = i + np.argmax(np.abs(A[i:n, i]))\n",
    "        A[[i, max_row]] = A[[max_row, i]]\n",
    "        b[[i, max_row]] = b[[max_row, i]]\n",
    "\n",
    "        pivot = A[i, i]\n",
    "        A[i] /= pivot\n",
    "        b[i] /= pivot\n",
    "\n",
    "        for j in range(i + 1, n):\n",
    "            factor = A[j, i]\n",
    "            A[j] -= factor * A[i]\n",
    "            b[j] -= factor * b[i]\n",
    "\n",
    "    x = np.zeros(n)\n",
    "    for i in range(n - 1, -1, -1):\n",
    "        x[i] = b[i] - np.dot(A[i, i + 1:], x[i + 1:])\n",
    "\n",
    "    return x"
   ]
  },
  {
   "cell_type": "code",
   "execution_count": 5,
   "metadata": {},
   "outputs": [
    {
     "name": "stdout",
     "output_type": "stream",
     "text": [
      "\n",
      "Big 12 College Football Rankings (2016-2017) \n",
      "1. Kansas: 1.00\n",
      "2. TCU: 1.00\n",
      "3. Oklahoma State: 1.00\n",
      "4. West Virginia: 1.00\n",
      "5. Texas Tech: 1.00\n",
      "6. Texas: 1.00\n",
      "7. Kansas State: 1.00\n",
      "8. Iowa State: 1.00\n",
      "9. Oklahoma: 1.00\n",
      "10. Baylor: 1.00\n"
     ]
    }
   ],
   "source": [
    "# Solve Ax = b using GEM\n",
    "rankings = gaussian_elimination(A.copy(), b.copy())\n",
    "\n",
    "# Sort Rankings\n",
    "sorted_indices = np.argsort(rankings)[::-1]\n",
    "sorted_teams = [(teams[i], rankings[i]) for i in sorted_indices]\n",
    "\n",
    "# Final Rankings\n",
    "print(\"\\nBig 12 College Football Rankings (2016-2017) \")\n",
    "for rank, (team, score) in enumerate(sorted_teams, 1):\n",
    "    print(f\"{rank}. {team}: {score:.2f}\")"
   ]
  }
 ],
 "metadata": {
  "kernelspec": {
   "display_name": "Python 3",
   "language": "python",
   "name": "python3"
  },
  "language_info": {
   "codemirror_mode": {
    "name": "ipython",
    "version": 3
   },
   "file_extension": ".py",
   "mimetype": "text/x-python",
   "name": "python",
   "nbconvert_exporter": "python",
   "pygments_lexer": "ipython3",
   "version": "3.13.1"
  }
 },
 "nbformat": 4,
 "nbformat_minor": 2
}
