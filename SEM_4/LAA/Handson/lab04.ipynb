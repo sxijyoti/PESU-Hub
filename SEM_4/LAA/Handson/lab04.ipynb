{
 "cells": [
  {
   "cell_type": "code",
   "execution_count": 3,
   "metadata": {},
   "outputs": [],
   "source": [
    "import numpy as np\n",
    "\n",
    "A = np.array([[1, 2, 3], [4, 5, 6], [7, 8, 9]])\n",
    "b = np.array([5, 7, 9])"
   ]
  },
  {
   "cell_type": "code",
   "execution_count": 9,
   "metadata": {},
   "outputs": [
    {
     "name": "stdout",
     "output_type": "stream",
     "text": [
      "[-7.66666667 12.33333333 -4.        ]\n",
      "\n",
      "Residual vector(r):\n",
      "[0.00000000e+00 3.55271368e-15 0.00000000e+00]\n"
     ]
    }
   ],
   "source": [
    "# method 1\n",
    "x = np.linalg.solve(A, b)\n",
    "print(x)\n",
    "\n",
    "r = np.dot(A, x) - b\n",
    "print(\"\\nResidual vector(r):\")\n",
    "print(r)"
   ]
  },
  {
   "cell_type": "code",
   "execution_count": 5,
   "metadata": {},
   "outputs": [
    {
     "name": "stdout",
     "output_type": "stream",
     "text": [
      "\n",
      "Permutation Matrix P:\n",
      "[[0. 1. 0.]\n",
      " [0. 0. 1.]\n",
      " [1. 0. 0.]]\n",
      "\n",
      "Lower Triangular Matrix L:\n",
      "[[1.         0.         0.        ]\n",
      " [0.14285714 1.         0.        ]\n",
      " [0.57142857 0.5        1.        ]]\n",
      "\n",
      "Upper Triangular Matrix U:\n",
      "[[7.00000000e+00 8.00000000e+00 9.00000000e+00]\n",
      " [0.00000000e+00 8.57142857e-01 1.71428571e+00]\n",
      " [0.00000000e+00 0.00000000e+00 1.11022302e-16]]\n",
      "\n",
      "Solution x:\n",
      "[-7.66666667 12.33333333 -4.        ]\n",
      "Error through A=PLU:\n",
      "[0.00000000e+00 3.55271368e-15 0.00000000e+00]\n"
     ]
    }
   ],
   "source": [
    "# method 2\n",
    "\n",
    "import scipy.linalg\n",
    "\n",
    "P,L, U = scipy.linalg.lu(A)\n",
    "x1 = np.linalg.solve(A,b)\n",
    "err1 = np.dot(A,x1) - b\n",
    "\n",
    "print(\"\\nPermutation Matrix P:\")\n",
    "print(P)\n",
    "print(\"\\nLower Triangular Matrix L:\")\n",
    "print(L)    \n",
    "print(\"\\nUpper Triangular Matrix U:\")   \n",
    "print(U)\n",
    "print(\"\\nSolution x:\")\n",
    "print(x1)\n",
    "print(\"Error through A=PLU:\")\n",
    "print(err1)"
   ]
  },
  {
   "cell_type": "code",
   "execution_count": 6,
   "metadata": {},
   "outputs": [
    {
     "name": "stdout",
     "output_type": "stream",
     "text": [
      "\n",
      "Solution y:\n",
      "[-1.61111111  0.22222222  2.05555556]\n"
     ]
    }
   ],
   "source": [
    "# method 3\n",
    "y =np.linalg.lstsq(A,b,rcond=None)[0]\n",
    "print(\"\\nSolution y:\")\n",
    "print(y)"
   ]
  },
  {
   "cell_type": "code",
   "execution_count": 7,
   "metadata": {},
   "outputs": [
    {
     "name": "stdout",
     "output_type": "stream",
     "text": [
      "\n",
      "Solution vector x2 using inverse:\n",
      "[-8.  0.  0.]\n",
      "\n",
      "Residual vector r2:\n",
      "[-13. -39. -65.]\n",
      "\n",
      "Error through inverse:\n",
      "[ 0.33333333 12.33333333 -4.        ]\n"
     ]
    }
   ],
   "source": [
    "# method 4\n",
    "\n",
    "A_inv = np.linalg.inv(A)\n",
    "x2 = np.dot(A_inv, b)\n",
    "r2 = np.dot(A, x2) - b\n",
    "err2 = x - x2\n",
    "\n",
    "print(\"\\nSolution vector x2 using inverse:\")\n",
    "print(x2)\n",
    "print(\"\\nResidual vector r2:\")\n",
    "print(r2)\n",
    "print(\"\\nError through inverse:\")\n",
    "print(err2)"
   ]
  },
  {
   "cell_type": "code",
   "execution_count": 8,
   "metadata": {},
   "outputs": [
    {
     "name": "stdout",
     "output_type": "stream",
     "text": [
      "[[1 2 3]\n",
      " [4 5 6]\n",
      " [7 8 9]]\n",
      "[5 7 9]\n",
      "\n",
      "[A:b] vector [[1 2 3 5]\n",
      " [4 5 6 7]\n",
      " [7 8 9 9]]\n",
      "\n",
      "Solution vector x3 using rref:\n",
      "[-3.66666667  4.33333333  0.        ]\n",
      "\n",
      "Residual vector r3:\n",
      "[0. 0. 0.]\n",
      "\n",
      "Error through rref:\n",
      "[-4.  8. -4.]\n"
     ]
    }
   ],
   "source": [
    "# method 5\n",
    "\n",
    "def rref(A):\n",
    "    A = A.astype(float)\n",
    "    m,n = A.shape\n",
    "    lead = 0\n",
    "    for r in range(m):\n",
    "        if lead >= n:\n",
    "            break\n",
    "        if A[r,lead] == 0:\n",
    "            for i in range(r+1,m):\n",
    "                if A[i,lead] != 0:\n",
    "                    A[[r,i]] = A[[i,r]]\n",
    "                    break\n",
    "        if A[r,lead] != 0:\n",
    "            A[r] = A[r] / A[r,lead]\n",
    "        for i in range(m):\n",
    "            if i != r:\n",
    "                A[i] = A[i] - A[i,lead] * A[r]\n",
    "        lead += 1\n",
    "    return A\n",
    "\n",
    "print(A)\n",
    "print(b)\n",
    "C=np.hstack((A,b.reshape(-1,1)))\n",
    "print(\"\\n[A:b] vector\",C)\n",
    "R=rref(C)\n",
    "x3 = R[:,-1]\n",
    "r3=np.dot(A,x3)-b\n",
    "err3=x-x3   \n",
    "print(\"\\nSolution vector x3 using rref:\")\n",
    "print(x3)\n",
    "print(\"\\nResidual vector r3:\")\n",
    "print(r3)\n",
    "print(\"\\nError through rref:\")\n",
    "print(err3)"
   ]
  }
 ],
 "metadata": {
  "kernelspec": {
   "display_name": "Python 3",
   "language": "python",
   "name": "python3"
  },
  "language_info": {
   "codemirror_mode": {
    "name": "ipython",
    "version": 3
   },
   "file_extension": ".py",
   "mimetype": "text/x-python",
   "name": "python",
   "nbconvert_exporter": "python",
   "pygments_lexer": "ipython3",
   "version": "3.13.1"
  }
 },
 "nbformat": 4,
 "nbformat_minor": 2
}
