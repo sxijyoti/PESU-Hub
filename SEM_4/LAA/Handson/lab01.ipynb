{
 "cells": [
  {
   "cell_type": "code",
   "execution_count": 2,
   "metadata": {},
   "outputs": [
    {
     "name": "stdout",
     "output_type": "stream",
     "text": [
      "Length of A: 3\n"
     ]
    }
   ],
   "source": [
    "import numpy as np\n",
    "# Matrix A \n",
    "A = np.array([[1, 2, 3], [2, 4, 6], [4, 8, 12]])\n",
    "B = np.array([5,7,9]) # Row B\n",
    "print(\"Length of A:\", len(A))\n"
   ]
  },
  {
   "cell_type": "code",
   "execution_count": 3,
   "metadata": {},
   "outputs": [
    {
     "name": "stdout",
     "output_type": "stream",
     "text": [
      "Matrix C:\n",
      " [[ 1  2  3]\n",
      " [ 2  4  6]\n",
      " [ 4  8 12]\n",
      " [ 5  7  9]]\n"
     ]
    }
   ],
   "source": [
    "C = np.vstack([A, B])  # A,B to create C\n",
    "print(\"Matrix C:\\n\", C)"
   ]
  },
  {
   "cell_type": "code",
   "execution_count": 4,
   "metadata": {},
   "outputs": [
    {
     "name": "stdout",
     "output_type": "stream",
     "text": [
      "Matrix D:\n",
      " [[ 4  6]\n",
      " [ 8 12]\n",
      " [ 7  9]]\n"
     ]
    }
   ],
   "source": [
    "# Create D from rows 2, 3, 4 and columns 3, 4 of C\n",
    "D = C[1:4, 1:3]  \n",
    "print(\"Matrix D:\\n\", D)"
   ]
  },
  {
   "cell_type": "code",
   "execution_count": 5,
   "metadata": {},
   "outputs": [
    {
     "name": "stdout",
     "output_type": "stream",
     "text": [
      "Matrix E:\n",
      " [[ 4  8  7]\n",
      " [ 6 12  9]]\n",
      "Size of E: (2, 3)\n"
     ]
    }
   ],
   "source": [
    "# Transpose D to create E\n",
    "E = D.T\n",
    "print(\"Matrix E:\\n\", E)\n",
    "\n",
    "# Check the size of E\n",
    "print(\"Size of E:\", E.shape)"
   ]
  },
  {
   "cell_type": "code",
   "execution_count": 6,
   "metadata": {},
   "outputs": [
    {
     "name": "stdout",
     "output_type": "stream",
     "text": [
      "Equally spaced vector: [ 1.    3.25  5.5   7.75 10.  ]\n"
     ]
    }
   ],
   "source": [
    "# Equally spaced vectors\n",
    "v = np.linspace(1, 10, 5)  \n",
    "print(\"Equally spaced vector:\", v)"
   ]
  },
  {
   "cell_type": "code",
   "execution_count": 7,
   "metadata": {},
   "outputs": [
    {
     "name": "stdout",
     "output_type": "stream",
     "text": [
      "Max in each column of A: [ 4  8 12]\n",
      "Min in each column of A: [1 2 3]\n",
      "Max in each row of A: [ 3  6 12]\n",
      "Min in each row of A: [1 2 4]\n",
      "Mean of each column in A: [2.33333333 4.66666667 7.        ]\n",
      "Sum of each row in A: [ 6 12 24]\n"
     ]
    }
   ],
   "source": [
    "# max and min in each column of A\n",
    "print(\"Max in each column of A:\", np.max(A, axis=0))\n",
    "print(\"Min in each column of A:\", np.min(A, axis=0))\n",
    "\n",
    "# max and min in each row of A\n",
    "print(\"Max in each row of A:\", np.max(A, axis=1))\n",
    "print(\"Min in each row of A:\", np.min(A, axis=1))\n",
    "\n",
    "# mean and sum in each column and row of A\n",
    "print(\"Mean of each column in A:\", np.mean(A, axis=0))\n",
    "print(\"Sum of each row in A:\", np.sum(A, axis=1))"
   ]
  },
  {
   "cell_type": "code",
   "execution_count": 8,
   "metadata": {},
   "outputs": [
    {
     "name": "stdout",
     "output_type": "stream",
     "text": [
      "Matrix F:\n",
      " [[84 92 36]\n",
      " [44 77 78]\n",
      " [10 79 28]]\n",
      "Matrix G:\n",
      " [[31 79  4]\n",
      " [94 69 27]\n",
      " [11 40 27]]\n"
     ]
    }
   ],
   "source": [
    "# random matrices F and G\n",
    "F = np.random.randint(1, 100, (3, 3))\n",
    "print(\"Matrix F:\\n\", F)\n",
    "\n",
    "G = np.random.randint(1, 100, (3, 3))\n",
    "print(\"Matrix G:\\n\", G)"
   ]
  },
  {
   "cell_type": "code",
   "execution_count": 9,
   "metadata": {},
   "outputs": [
    {
     "name": "stdout",
     "output_type": "stream",
     "text": [
      "F * 2:\n",
      " [[168 184  72]\n",
      " [ 88 154 156]\n",
      " [ 20 158  56]]\n",
      "F + G:\n",
      " [[115 171  40]\n",
      " [138 146 105]\n",
      " [ 21 119  55]]\n",
      "F - G:\n",
      " [[ 53  13  32]\n",
      " [-50   8  51]\n",
      " [ -1  39   1]]\n",
      "Element-wise multiplication\n",
      " [[2604 7268  144]\n",
      " [4136 5313 2106]\n",
      " [ 110 3160  756]]\n"
     ]
    }
   ],
   "source": [
    "# perform scalar multiplication, addition, subtraction, and element-wise multiplication\n",
    "print(\"F * 2:\\n\", F * 2)  # Scalar multiplication\n",
    "print(\"F + G:\\n\", F + G)  # Matrix addition\n",
    "print(\"F - G:\\n\", F - G)  # Matrix subtraction\n",
    "print(\"Element-wise multiplication\\n\", np.multiply(F, G))"
   ]
  },
  {
   "cell_type": "code",
   "execution_count": 10,
   "metadata": {},
   "outputs": [
    {
     "name": "stdout",
     "output_type": "stream",
     "text": [
      "Matrix Multiplication:\n",
      " [[ 412  824 1236]\n",
      " [ 510 1020 1530]\n",
      " [ 280  560  840]]\n"
     ]
    }
   ],
   "source": [
    "# size of F and A, then perform matrix multiplication if compatible\n",
    "if F.shape[1] == A.shape[0]:  \n",
    "    print(\"Matrix Multiplication:\\n\", np.dot(F, A))"
   ]
  },
  {
   "cell_type": "code",
   "execution_count": 11,
   "metadata": {},
   "outputs": [
    {
     "name": "stdout",
     "output_type": "stream",
     "text": [
      "Identity Matrix:\n",
      " [[1. 0. 0.]\n",
      " [0. 1. 0.]\n",
      " [0. 0. 1.]]\n",
      "Zero Matrix:\n",
      " [[0. 0. 0.]\n",
      " [0. 0. 0.]\n",
      " [0. 0. 0.]\n",
      " [0. 0. 0.]\n",
      " [0. 0. 0.]]\n",
      "One Matrix:\n",
      " [[1. 1.]\n",
      " [1. 1.]\n",
      " [1. 1.]\n",
      " [1. 1.]]\n",
      "Diagonal Matrix:\n",
      " [[1 0 0]\n",
      " [0 2 0]\n",
      " [0 0 7]]\n",
      "Extracted Diagonal Elements:\n",
      " [41 68 48 21 64 56]\n",
      "Dense Matrix:\n",
      " [[1. 0. 0. 0.]\n",
      " [0. 2. 0. 0.]\n",
      " [0. 0. 3. 0.]\n",
      " [0. 0. 0. 4.]]\n"
     ]
    }
   ],
   "source": [
    "# special matrices\n",
    "identity_matrix = np.eye(3)  # 3x3 identity matrix\n",
    "print(\"Identity Matrix:\\n\", identity_matrix)\n",
    "\n",
    "zero_matrix = np.zeros((5, 3))  # 5x3 zero matrix\n",
    "print(\"Zero Matrix:\\n\", zero_matrix)\n",
    "\n",
    "one_matrix = np.ones((4, 2))  # 4x2 matrix of ones\n",
    "print(\"One Matrix:\\n\", one_matrix)\n",
    "\n",
    "diagonal_matrix = np.diag([1, 2, 7])  # Diagonal matrix\n",
    "print(\"Diagonal Matrix:\\n\", diagonal_matrix)\n",
    "\n",
    "random_matrix = np.random.randint(10, 100, (6, 6))  # 6x6 random matrix\n",
    "extracted_diagonal = np.diag(random_matrix)  # Extract diagonal elements\n",
    "print(\"Extracted Diagonal Elements:\\n\", extracted_diagonal)\n",
    "\n",
    "sparse_diag_matrix = np.diag([1, 2, 3, 4])  # Sparse diagonal matrix\n",
    "dense_matrix = sparse_diag_matrix.astype(float)  \n",
    "print(\"Dense Matrix:\\n\", dense_matrix)"
   ]
  }
 ],
 "metadata": {
  "kernelspec": {
   "display_name": "Python 3",
   "language": "python",
   "name": "python3"
  },
  "language_info": {
   "codemirror_mode": {
    "name": "ipython",
    "version": 3
   },
   "file_extension": ".py",
   "mimetype": "text/x-python",
   "name": "python",
   "nbconvert_exporter": "python",
   "pygments_lexer": "ipython3",
   "version": "3.13.1"
  }
 },
 "nbformat": 4,
 "nbformat_minor": 2
}
